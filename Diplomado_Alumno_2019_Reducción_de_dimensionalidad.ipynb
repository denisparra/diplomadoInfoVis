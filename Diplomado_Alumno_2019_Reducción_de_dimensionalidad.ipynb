{
  "nbformat": 4,
  "nbformat_minor": 0,
  "metadata": {
    "colab": {
      "name": "Diplomado Alumno 2019 Reducción de dimensionalidad.ipynb",
      "version": "0.3.2",
      "provenance": [],
      "collapsed_sections": [],
      "include_colab_link": true
    },
    "kernelspec": {
      "display_name": "Python 3",
      "language": "python",
      "name": "python3"
    }
  },
  "cells": [
    {
      "cell_type": "markdown",
      "metadata": {
        "id": "view-in-github",
        "colab_type": "text"
      },
      "source": [
        "<a href=\"https://colab.research.google.com/github/denisparra/diplomadoInfoVis/blob/master/Diplomado_Alumno_2019_Reducci%C3%B3n_de_dimensionalidad.ipynb\" target=\"_parent\"><img src=\"https://colab.research.google.com/assets/colab-badge.svg\" alt=\"Open In Colab\"/></a>"
      ]
    },
    {
      "cell_type": "markdown",
      "metadata": {
        "id": "xCXryKWzePSi",
        "colab_type": "text"
      },
      "source": [
        "# Diplomado _Big Data_ - Reducción de dimensionalidad\n",
        "\n",
        "**Profesores:** Nebil Kawas y Denis Parra.\n",
        "\n",
        "**Ayudantes**: Juan Espinosa, Germán Contreras y Hernán Valdivieso.\n",
        "\n",
        "Guía creada por Ivania Donoso y Hernán Valdivieso\n",
        "\n",
        "-----\n",
        "\n",
        "\n",
        "---\n",
        "El siguiente _jupyter notebook_ tiene como fin ser una breve guía de creación de gráficos con interacciones utilizando la librería altair y de utilización de reducción de dimensionalidad para algunos problemas interesantes. Vamos a utilizar los datos de los resultados por comuna de las elecciones presidenciales de Chile desde el año 1989.\n",
        "\n",
        "Para facilitar la instalación de esta librería, este archivo debe ser subido a [Google Colab](https://colab.research.google.com/) para poder ejecutarlo en los servidores de Google, los cuales  disponen de todos los recursos necesarios para ejecutar los códigos que implementarás.\n",
        "\n",
        "Este  _jupyter notebook_ se divide en 2 partes:\n",
        "\n",
        "- Utilización de interacciones de Altair\n",
        "- Reducción de dimensionalidad.\n",
        "\n",
        "# Integrantes\n",
        "\n",
        "Este práctico se puede realizar en parejas.\n",
        "\n",
        "- Nombre 1\n",
        "- Nombre 2\n",
        "\n",
        "Recuerde subir el PDF y .ipynb de este práctico. **No suba un .zip con todo**\n",
        "\n",
        "# Indice  \n"
      ]
    },
    {
      "cell_type": "markdown",
      "metadata": {
        "id": "Eq5u1Q396wlO",
        "colab_type": "toc"
      },
      "source": [
        ">[Diplomado Big Data - Reducción de dimensionalidad](#scrollTo=xCXryKWzePSi)\n",
        "\n",
        ">[Indice](#scrollTo=xCXryKWzePSi)\n",
        "\n",
        ">>[Descargar información](#scrollTo=9AdImEEudzLv)\n",
        "\n",
        ">>[Importar librerías del práctico](#scrollTo=p-zksDqUd1kx)\n",
        "\n",
        ">[Introducción sobre los datos](#scrollTo=46Aeme6b4FyH)\n",
        "\n",
        ">[Parte 1: Usar las columnas de resultados](#scrollTo=otcBVLQl4FyV)\n",
        "\n",
        ">>[Scatter matrix](#scrollTo=otcBVLQl4FyV)\n",
        "\n",
        ">>[Actividad 1](#scrollTo=dCaXxLRQ4FyY)\n",
        "\n",
        ">>[Más interacciones](#scrollTo=30Mn2VQn4Fyd)\n",
        "\n",
        ">>[Actividad 2](#scrollTo=KtYEgI8X4Fyg)\n",
        "\n",
        ">[Parte 2: Usar reducción de dimensionalidad](#scrollTo=1nJjLAEM4Fyk)\n",
        "\n",
        ">>[Reducción de dimensión en imágenes](#scrollTo=JO4mQXHo4Fyr)\n",
        "\n",
        ">>>[PCA](#scrollTo=1d42BMv5QOH_)\n",
        "\n",
        ">>>>[Observación](#scrollTo=YVSerMbLRA2R)\n",
        "\n",
        ">>>[TSNE](#scrollTo=YVSerMbLRA2R)\n",
        "\n",
        ">>>>[Observación](#scrollTo=7fxY5VuocjDI)\n",
        "\n",
        ">>>[UMAP](#scrollTo=7fxY5VuocjDI)\n",
        "\n",
        ">>>>[Observación](#scrollTo=cnvK7mQBc441)\n",
        "\n",
        ">>[Actividad 3](#scrollTo=FCIvPNcREs6s)\n",
        "\n",
        ">>>[Descargar dataset](#scrollTo=FCIvPNcREs6s)\n",
        "\n",
        ">>>[Cargar información](#scrollTo=II-Hwi0SKi9-)\n",
        "\n",
        ">>>[Funciones](#scrollTo=cqClLcTHGped)\n",
        "\n",
        ">>>[Documentación de funciones](#scrollTo=eqaNy1ISFN7x)\n",
        "\n",
        ">>>[Generar gráficos](#scrollTo=WAdwTZaCFrB_)\n",
        "\n",
        ">>>[¿Con ganas de ver más?](#scrollTo=JwM1UDfmOvJa)\n",
        "\n",
        ">>[Actividad 4](#scrollTo=ADLHEZ_mRfXT)\n",
        "\n",
        ">>>[Documentación de funciones (la misma que de la actividad 03)](#scrollTo=ADLHEZ_mRfXT)\n",
        "\n",
        ">>>[Completar el siguiente código y luego responder la pregunta](#scrollTo=xNPO38qxjsXr)\n",
        "\n",
        ">>>[Respuesta](#scrollTo=Qmyfy5PXZTkj)\n",
        "\n"
      ]
    },
    {
      "cell_type": "markdown",
      "metadata": {
        "id": "9AdImEEudzLv",
        "colab_type": "text"
      },
      "source": [
        "## Descargar información"
      ]
    },
    {
      "cell_type": "code",
      "metadata": {
        "id": "EI6QzsHQfjwB",
        "colab_type": "code",
        "colab": {}
      },
      "source": [
        "from IPython.display import clear_output\n",
        "\n",
        "\n",
        "!wget -N https://www.dropbox.com/s/l76bz6z65pm1gcw/resultado_presidente_comunas.csv\n",
        "!wget -N https://www.dropbox.com/s/3gsq3wng910cvwr/diccionario_hechos\n",
        "  \n",
        "clear_output() # Limpiar ventana para que no se vea despues.\n",
        "!ls"
      ],
      "execution_count": 0,
      "outputs": []
    },
    {
      "cell_type": "markdown",
      "metadata": {
        "id": "p-zksDqUd1kx",
        "colab_type": "text"
      },
      "source": [
        "## Importar librerías del práctico"
      ]
    },
    {
      "cell_type": "code",
      "metadata": {
        "id": "XEFEADFmd9HM",
        "colab_type": "code",
        "colab": {}
      },
      "source": [
        "import pandas as pd\n",
        "import json\n",
        "import pprint\n",
        "from vega_datasets import data\n",
        "import altair as alt\n",
        "from sklearn.decomposition import PCA, TruncatedSVD\n",
        "from sklearn.manifold import TSNE, MDS\n",
        "from sklearn.discriminant_analysis import LinearDiscriminantAnalysis\n",
        "import umap\n",
        "from sklearn import datasets\n",
        "from sklearn.manifold import TSNE\n",
        "import numpy as np\n",
        "import matplotlib.pyplot as plt\n",
        "import pandas as pd\n"
      ],
      "execution_count": 0,
      "outputs": []
    },
    {
      "cell_type": "markdown",
      "metadata": {
        "id": "46Aeme6b4FyH",
        "colab_type": "text"
      },
      "source": [
        "# Introducción sobre los datos\n",
        "\n",
        "En este laboratorio, vamos a trabajar con los resultados de las elecciones presidenciales de Chile desde 1989. Los resultados están guardados en una tabla donde cada fila es una comuna. Hay dos tipos de columnas: las que muestran el porcentaje que obtuvo un candidato en una elección y las columnas de valor binario que muestran la presencia o ausencia de un hecho en una comuna. Además, existe un diccionario que explica qué significan los hechos."
      ]
    },
    {
      "cell_type": "markdown",
      "metadata": {
        "id": "1Gp_x67IUU5F",
        "colab_type": "text"
      },
      "source": [
        "Los datos que tienen los resultados por comuna están en un archivo csv"
      ]
    },
    {
      "cell_type": "code",
      "metadata": {
        "id": "9fW27eFS4FyT",
        "colab_type": "code",
        "colab": {}
      },
      "source": [
        "df = pd.read_csv('resultado_presidente_comunas.csv')  # Cargamos los datos\n",
        "df.head()"
      ],
      "execution_count": 0,
      "outputs": []
    },
    {
      "cell_type": "markdown",
      "metadata": {
        "id": "I_Dcz8uBUsHb",
        "colab_type": "text"
      },
      "source": [
        "Las columnas de candidatos son las siguientes:"
      ]
    },
    {
      "cell_type": "code",
      "metadata": {
        "id": "8oOZiMl14FyH",
        "colab_type": "code",
        "colab": {}
      },
      "source": [
        "columnas_candidatos = ['a-alessandri_1993_1', 'a-frei_1999_1', 'a-guillier_2017_1',\n",
        "       'a-guillier_2017_2', 'a-navarro_2017_1', 'a-sfeir_2013_1',\n",
        "       'b-sanchez_2017_1', 'c-goic_2017_1', 'c-reitze_1993_1',\n",
        "       'e-artes_2017_1', 'e-frei_1993_1', 'e-frei_2009_1', 'e-frei_2009_2',\n",
        "       'e-matthei_2013_1', 'e-matthei_2013_2', 'e-pizarro_1993_1',\n",
        "       'f-errazuriz_1989_1', 'f-parisi_2013_1', 'g-marin_1999_1',\n",
        "       'h-buchi_1989_1', 'j-a-kast_2017_1', 'j-arrate_2009_1',\n",
        "       'j-lavin_1999_1', 'j-lavin_1999_2', 'j-lavin_2005_1', 'j-pinera_1993_1',\n",
        "       'm-bachelet_2005_1', 'm-bachelet_2005_2', 'm-bachelet_2013_1',\n",
        "       'm-bachelet_2013_2', 'm-claude_2013_1', 'm-enriquez-o_2009_1',\n",
        "       'm-enriquez-o_2017_1', 'm-enriquez-ominami_2013_1', 'm-maxneef_1993_1',\n",
        "       'p-aylwin_1989_1', 'r-israel_2013_1', 'r-lagos_1999_1',\n",
        "       'r-lagos_1999_2', 'r-miranda_2013_1', 's-larrain_1999_1',\n",
        "       's-pinera_2005_1', 's-pinera_2005_2', 's-pinera_2009_1',\n",
        "       's-pinera_2009_2', 's-pinera_2017_1', 's-pinera_2017_2',\n",
        "       't-hirsch_1999_1', 't-hirsch_2005_1', 't-jocelyn-holt_2013_1']"
      ],
      "execution_count": 0,
      "outputs": []
    },
    {
      "cell_type": "markdown",
      "metadata": {
        "id": "G0nSe5Y94FyK",
        "colab_type": "text"
      },
      "source": [
        "Cada columna de candidato está descrita como: `{iniciales_nombre}-{apellido_paterno}_{año_eleccion}_{primera_o_segunda_vuelta}`.\n",
        "\n",
        "Las columnas de hechos son 16. Cada una de estas describe una posible característica de la comuna de acuerdo a las elecciones de 2017. Cada una tiene un nombre (`name`), un nombre descriptivo (`label`) y una descripción (`description`). A continuación pueden ver los diferentes hechos:"
      ]
    },
    {
      "cell_type": "code",
      "metadata": {
        "id": "lq9z7T4l4FyL",
        "colab_type": "code",
        "colab": {}
      },
      "source": [
        "pp = pprint.PrettyPrinter(indent=2)\n",
        "\n",
        "with open('diccionario_hechos') as f:\n",
        "    descripcion_hechos = json.load(f)\n",
        "    \n",
        "print(json.dumps(descripcion_hechos, indent=4, ensure_ascii=False))\n",
        "# json.dumps es solo para que se vea bonito el print"
      ],
      "execution_count": 0,
      "outputs": []
    },
    {
      "cell_type": "markdown",
      "metadata": {
        "id": "tuKmr2V_4FyO",
        "colab_type": "text"
      },
      "source": [
        "Para seleccionar y ver las característica de un eje solo debe seleccionarlo de la siguiente forma:"
      ]
    },
    {
      "cell_type": "code",
      "metadata": {
        "id": "CQ_CUOs14FyP",
        "colab_type": "code",
        "colab": {}
      },
      "source": [
        "print(descripcion_hechos['wins-pinera'])\n",
        "print(\"Label: \", descripcion_hechos['wins-pinera']['label'])"
      ],
      "execution_count": 0,
      "outputs": []
    },
    {
      "cell_type": "markdown",
      "metadata": {
        "id": "HgUEyxr2U1mL",
        "colab_type": "text"
      },
      "source": [
        "Por ejemplo, si vemos la primera y segunda columna,,  en la comuna de **Algarrobo** tenemos que **37.29 %** de los habitantes votó por **Arturo Alessandri**. También, si vemos las últimas columnas, tenemos que la comuna tiene presente el hecho `wins-pinera` que mostramos arriba."
      ]
    },
    {
      "cell_type": "code",
      "metadata": {
        "id": "fkJSImQjU58A",
        "colab_type": "code",
        "colab": {}
      },
      "source": [
        "pd.options.display.max_columns = None\n",
        "df.head(1)"
      ],
      "execution_count": 0,
      "outputs": []
    },
    {
      "cell_type": "markdown",
      "metadata": {
        "id": "I19_kv_J4FyU",
        "colab_type": "text"
      },
      "source": [
        "En la actividad de hoy partiremos usando algunos gráficos con interacción con las columnas tal y como vienen en el dataset, y luego utilizaremos reducción de dimensionalidad para obtener más información de los datos. Luego veremos una aplicación diferente de reducción de dimensionalidad para finalmente hacer una actividad final donde apliquen estas técnicas y visualicen un _dataset_ distinto."
      ]
    },
    {
      "cell_type": "markdown",
      "metadata": {
        "id": "otcBVLQl4FyV",
        "colab_type": "text"
      },
      "source": [
        "# Parte 1: Usar las columnas de resultados\n",
        "## Scatter matrix\n",
        "Un _scatter matrix_ es varios _scatter plot_ en donde cada gráfico es una combinación de dos variables del dataset. Este tipo de visualización permite obtener información rápidamente sobre la correlación entre dos variables."
      ]
    },
    {
      "cell_type": "code",
      "metadata": {
        "id": "BQeyG0AQ4FyV",
        "colab_type": "code",
        "colab": {}
      },
      "source": [
        "cars = data.cars()\n",
        "cars.head(3)"
      ],
      "execution_count": 0,
      "outputs": []
    },
    {
      "cell_type": "code",
      "metadata": {
        "id": "Z5GlPa5FM2k8",
        "colab_type": "code",
        "colab": {}
      },
      "source": [
        "import altair as alt\n",
        "\n",
        "# Un brush nos permite seleccionar varios elementos de la visualización al mismo tiempo\n",
        "brush = alt.selection(type='interval')\n",
        "\n",
        "# Para hacer este gráfico usaremos la propiedad repeat. \n",
        "alt.Chart(cars).mark_circle().encode(\n",
        "    # Lo que esté en la variable column estará en el eje X\n",
        "    alt.X(alt.repeat(\"column\"), type='quantitative'),\n",
        "    \n",
        "    # Lo que esté en la variable row estará en el eje y\n",
        "    alt.Y(alt.repeat(\"row\"), type='quantitative'),\n",
        "    \n",
        "    # El color de cada elemento depende de una condición.\n",
        "    # Si está seleccionado con un brush será del color que corresponda a 'Origin:N',\n",
        "    # en otro caso será de color gris.\n",
        "    # Legend nos permite cambiar la leyenda.\n",
        "    color=alt.condition(brush, 'Origin:N', alt.ColorValue('gray'), legend=alt.Legend(title=\"Country of Origin\")),\n",
        ").add_selection(\n",
        "    # Agregamos el objeto brush que declaramos arriba\n",
        "    brush \n",
        ").properties( \n",
        "    # Modificamos el tamaño del gráfico para que se ajuste a la pantalla. \n",
        "    width=150, \n",
        "    height=150,\n",
        ").repeat( \n",
        "    # Estas son las columnas que se van a repetir. \n",
        "    row=['Horsepower', 'Acceleration', 'Miles_per_Gallon'],\n",
        "    column=['Miles_per_Gallon', 'Acceleration', 'Horsepower']\n",
        ")"
      ],
      "execution_count": 0,
      "outputs": []
    },
    {
      "cell_type": "markdown",
      "metadata": {
        "id": "dCaXxLRQ4FyY",
        "colab_type": "text"
      },
      "source": [
        "## Actividad 1\n",
        "Realice un `scatter matrix` que muestre la votación de la primera vuelta del año 2005. La matriz debe mostrar las combicaciones de todos los candidatos del año 2005. El color de cada columa debe indicar un hecho, puede elegir cualquiera de los 16 hechos. El título de la leyenda de los colores debe mostrar el nombre en nombre descriptivo del hecho.\n",
        "\n",
        "Ayuda: esta sentencia selecciona todos los columnas que corresponden a candidatos de la año 2005 en primera vuelta"
      ]
    },
    {
      "cell_type": "code",
      "metadata": {
        "id": "bkPn65h24FyZ",
        "colab_type": "code",
        "colab": {}
      },
      "source": [
        "candidates = [c for c in columnas_candidatos if '2005_1' in  c]"
      ],
      "execution_count": 0,
      "outputs": []
    },
    {
      "cell_type": "code",
      "metadata": {
        "id": "AG2E4B9fxB88",
        "colab_type": "code",
        "colab": {}
      },
      "source": [
        "# Cambiar los 4 \"COMPLETAR\" por lo necesario\n",
        "\n",
        "alt.Chart(df).mark_circle().encode(\n",
        "    alt.X(alt.repeat(\"column\"), type='quantitative',  axis=alt.Axis(format='%')),\n",
        "    alt.Y(alt.repeat(\"row\"), type='quantitative', axis=alt.Axis(format='%')),\n",
        "    color=alt.condition(brush, \"COMPLETAR\", alt.ColorValue('gray'), legend=alt.Legend(title=\"COMPLETAR\")),\n",
        ").add_selection(\n",
        "    brush  \n",
        ").properties(\n",
        "    width=150,\n",
        "    height=150\n",
        ").repeat(\n",
        "    row= \"COMPLETAR\",\n",
        "    column=\"COMPLETAR\"\n",
        ")"
      ],
      "execution_count": 0,
      "outputs": []
    },
    {
      "cell_type": "markdown",
      "metadata": {
        "id": "30Mn2VQn4Fyd",
        "colab_type": "text"
      },
      "source": [
        "## Más interacciones\n",
        "\n",
        "En este ejemplo usamos 3 gráficos que están coordinados. Estamos haciendo un _select_,  _juxtapose_ y _embed_. "
      ]
    },
    {
      "cell_type": "code",
      "metadata": {
        "id": "zCyq-eTH4Fye",
        "colab_type": "code",
        "colab": {}
      },
      "source": [
        "cars = data.cars()\n",
        "\n",
        "brush = alt.selection(type='interval')\n",
        "\n",
        "# Estas dos variables nos permiten definir si queremos los labels de los valores de los ejes y sus títulos. \n",
        "tick_axis = alt.Axis(labels=False, domain=False, ticks=False)\n",
        "tick_axis_notitle = alt.Axis(labels=False, domain=False, ticks=False, title='')\n",
        "\n",
        "points = alt.Chart(cars).mark_point().encode(\n",
        "    x=alt.X('Miles_per_Gallon', axis=alt.Axis(title='')),\n",
        "    y=alt.Y('Horsepower', axis=alt.Axis(title='')),\n",
        "    color=alt.condition(brush, 'Origin', alt.value('grey')),\n",
        "    tooltip=['Name']  # Aquí estamos usando embed para mostrar más información de los datos\n",
        ").add_selection(\n",
        "    brush\n",
        ")\n",
        "\n",
        "# Para el gráfico que va en el eje X no queremos mostrar el título en el eje y\n",
        "x_ticks = alt.Chart(cars).mark_tick().encode(\n",
        "    alt.X('Miles_per_Gallon', axis=tick_axis),  # Queremos que el título del eje X sí aparezca.\n",
        "    alt.Y('Origin', axis=tick_axis_notitle),  # Ponemos la variable que elimina los títulos.\n",
        "    color=alt.condition(brush, 'Origin', alt.value('lightgrey'))\n",
        ").add_selection(\n",
        "    brush\n",
        ")\n",
        "\n",
        "y_ticks = alt.Chart(cars).mark_tick().encode(\n",
        "    alt.X('Origin', axis=tick_axis_notitle),\n",
        "    alt.Y('Horsepower', axis=tick_axis),\n",
        "    color=alt.condition(brush, 'Origin', alt.value('lightgrey'))\n",
        ").add_selection(\n",
        "    brush\n",
        ")\n",
        "\n",
        "# Se disponen los gráficos en columnas y filas. Las barras verticales | definen las columnas y los & definen filas.\n",
        "\n",
        "y_ticks | (points & x_ticks)  \n"
      ],
      "execution_count": 0,
      "outputs": []
    },
    {
      "cell_type": "markdown",
      "metadata": {
        "id": "KtYEgI8X4Fyg",
        "colab_type": "text"
      },
      "source": [
        "## Actividad 2\n",
        "\n",
        "Realice un gráfico como el de arriba para dos candidatos de una misma elección. El tootlip debe mostrar el nombre de la comuna y el color debe mostrar un hecho a elección."
      ]
    },
    {
      "cell_type": "code",
      "metadata": {
        "id": "9KmRziqOxGAg",
        "colab_type": "code",
        "colab": {}
      },
      "source": [
        "# Cambiar los 6 \"COMPLETAR\" por lo necesario\n",
        "\n",
        "brush = alt.selection(type='interval')\n",
        "\n",
        "# Indicar un hecho\n",
        "hecho = \"COMPLETAR\"\n",
        "\n",
        "# Estas dos variables nos permiten definir si queremos los labels de los valores de los ejes y sus títulos. \n",
        "tick_axis = alt.Axis(labels=False, domain=False, ticks=False)\n",
        "tick_axis_notitle = alt.Axis(labels=False, domain=False, ticks=False, title='')\n",
        "\n",
        "points = alt.Chart(df).mark_point().encode(\n",
        "    x=alt.X(\"COMPLETAR\", axis=alt.Axis(title='')),\n",
        "    y=alt.Y(\"COMPLETAR\", axis=alt.Axis(title='')),\n",
        "    color=alt.condition(brush, hecho + \":N\", alt.value('grey'), legend=alt.Legend(title=descripcion_hechos[hecho]['label'])),\n",
        "    tooltip=\"COMPLETAR\"\n",
        ").add_selection(\n",
        "    brush\n",
        ")\n",
        "\n",
        "# Para el gráfico que va en el eje X no queremos mostrar el título en el eje y\n",
        "x_ticks = alt.Chart(df).mark_tick().encode(\n",
        "    alt.X(\"COMPLETAR\", axis=tick_axis),  # Queremos que el título del eje X sí aparezca.\n",
        "    alt.Y(hecho + \":N\", axis=tick_axis_notitle),  # Ponemos la variable que elimina los títulos.\n",
        "    color=alt.condition(brush, hecho + \":N\", alt.value('lightgrey'))\n",
        ").add_selection(\n",
        "    brush\n",
        ")\n",
        "\n",
        "y_ticks = alt.Chart(df).mark_tick().encode(\n",
        "    alt.X(hecho + \":N\", axis=tick_axis_notitle),\n",
        "    alt.Y(\"COMPLETAR\", axis=tick_axis),\n",
        "    color=alt.condition(brush, hecho + \":N\", alt.value('lightgrey'))\n",
        ").add_selection(\n",
        "    brush\n",
        ")\n",
        "\n",
        "y_ticks | (points & x_ticks)  "
      ],
      "execution_count": 0,
      "outputs": []
    },
    {
      "cell_type": "markdown",
      "metadata": {
        "id": "1nJjLAEM4Fyk",
        "colab_type": "text"
      },
      "source": [
        "# Parte 2: Usar reducción de dimensionalidad\n",
        "\n",
        "Reducción de dimensionalidad es transformar los datos a una nueva representación con menos dimensiones. Por ejemplo, tener 10 columnas iniciales y luego tener 2 columnas que representan más o menos la misma información.\n",
        "\n",
        "Existen muchos tipos de formas de reducir la dimensionalidad. Unas son supervisadas, como _LDA_, pero la mayoría son no supervisadas, es decir no necesitamos clases. En esta actividad veremos 5: _PCA_, _LDA_, _LSA_, _t-SNE_, _MDS_."
      ]
    },
    {
      "cell_type": "code",
      "metadata": {
        "id": "fouuoGSG4Fyk",
        "colab_type": "code",
        "colab": {}
      },
      "source": [
        "def principal_components_analysis(data, componentes, **kwargs):\n",
        "    \"\"\"\n",
        "    Explicación del método en español: https://es.wikipedia.org/wiki/An%C3%A1lisis_de_componentes_principales\n",
        "    \"\"\"\n",
        "    dim_red = PCA(n_components=componentes).fit(data)\n",
        "    data_new_dimensions = dim_red.transform(data)\n",
        "    return data_new_dimensions\n",
        "\n",
        "\n",
        "def linear_discriminant_analysis(data, componentes, classes):\n",
        "    \"\"\"\n",
        "    Esta es otra técnica que es posible utilizar, pero no fue vista en clases.\n",
        "    Explicación del método en español: https://es.wikipedia.org/wiki/An%C3%A1lisis_discriminante_lineal\n",
        "    \n",
        "    Este método entrega como máximo el número de clases -1 componentes. Es decir, si tenemos dos clases, entrega una componente.\n",
        "    \"\"\"\n",
        "    dim_red = LinearDiscriminantAnalysis(solver='svd', n_components=componentes+1).fit(data, classes)\n",
        "    data_new_dimensions = dim_red.transform(data)\n",
        "    return data_new_dimensions\n",
        "\n",
        "def tsne(data, componentes, **kwargs):\n",
        "    \"\"\"\n",
        "    Expicación del método en inglés: https://en.wikipedia.org/wiki/T-distributed_stochastic_neighbor_embedding\n",
        "    \n",
        "    Este método tiene una componente aleatoria, por lo que no siempre entrega la misma distribución para un set de puntos.\n",
        "    \"\"\"\n",
        "    data_new_dimensions = TSNE(n_components=componentes).fit_transform(data)\n",
        "    return data_new_dimensions\n",
        "\n",
        "\n",
        "def multidimensional_scalling(data, componentes, **kwargs):\n",
        "    \"\"\"\n",
        "    Esta es otra técnica que es posible utilizar, pero no fue vista en clases.\n",
        "    Explicación del método en español: https://es.wikipedia.org/wiki/Escalamiento_multidimensional\n",
        "    Este método tiene una componente aleatoria, por lo que no siempre entrega la misma distribución para un set de puntos.\n",
        "    \"\"\"\n",
        "    data_new_dimensions = MDS(n_components=componentes).fit_transform(data)\n",
        "    return data_new_dimensions\n",
        "  \n",
        "def uniform_manifold_approximation_and_projection(data, componentes, **kwargs):\n",
        "    \"\"\"\n",
        "    Explicación del método en ingles: https://umap-learn.readthedocs.io/en/latest/\n",
        "    Paper: https://arxiv.org/pdf/1802.03426.pdf\n",
        "    Este método tiene una componente aleatoria, por lo que no siempre entrega la misma distribución para un set de puntos.\n",
        "    \"\"\"\n",
        "    data_new_dimensions = umap.UMAP().fit_transform(data)\n",
        "    return data_new_dimensions\n",
        "\n",
        "# Este diccionario nos permitirá seleccionar un método solo con sus iniciales.\n",
        "TRANSFORMATIONS = {\n",
        "    'pca': principal_components_analysis,\n",
        "    'lda': linear_discriminant_analysis, \n",
        "    'tsne': tsne,\n",
        "    'mds': multidimensional_scalling,\n",
        "    'umap': uniform_manifold_approximation_and_projection\n",
        "}\n",
        "\n",
        "\n",
        "def reduce_dimensions(transformation, data_original, columnas, clases=None, componentes=2):\n",
        "    \"\"\"\n",
        "    Este método es que el que deben llamar para obtener los datos. \n",
        "    Les agregará las componentes que encuentre al dataframe que ya estaban utilizando.\n",
        "    \n",
        "    :param transformation: transformación que quieren realizar: pca, lsa, lda, tsne, mds\n",
        "    :param data_original: el dataframe de los datos que se van a transformar\n",
        "    :param columnas: columnas sobre las que se aplicará la transformación\\\n",
        "    :param clases: necesaria para el método lda. Las clases que se utilizarán para separar los datos\n",
        "    :param componentes: número de componentes que se obtendrán. \n",
        "    :return el dataframe con las componentes\n",
        "    \"\"\"\n",
        "    if transformation == 'lda' and clases is None:\n",
        "        raise ValueError('Linear Discriminant Analysis necesita las clases')\n",
        "    \n",
        "    try:\n",
        "        transform_method = TRANSFORMATIONS[transformation]\n",
        "    except KeyError as e: \n",
        "        raise ValueError(\n",
        "            'La transformación {0} no está disponible'.format(transformation))\n",
        "    \n",
        "    data = data_original.copy()\n",
        "    converted_data = transform_method(data[columnas], componentes, classes=clases)\n",
        "    for component in range(converted_data.shape[1]):        \n",
        "        data['c{}'.format(component)] = converted_data[:, component]\n",
        "    return data"
      ],
      "execution_count": 0,
      "outputs": []
    },
    {
      "cell_type": "markdown",
      "metadata": {
        "id": "BONkd8Gz4Fym",
        "colab_type": "text"
      },
      "source": [
        "En este ejemplo veremos cómo podemos armar una visualización con usando las reducciones de dimensionalidad."
      ]
    },
    {
      "cell_type": "code",
      "metadata": {
        "id": "Wzvm77944Fyn",
        "colab_type": "code",
        "colab": {}
      },
      "source": [
        "# Vamos a usar como brush uno que funciona en mouseover. \n",
        "# El parámetro fields indica que en cada gráfico seleccionará la marca que corresponda a la misma comuna.\n",
        "\n",
        "brush = alt.selection_multi(on='mouseover', fields=['comuna'])\n",
        "\n",
        "\n",
        "# Esta función creará algunos de los gráficos que vamos a usar\n",
        "def make_chart(columna_color, tipo, data, titulo):\n",
        "    \"\"\"\n",
        "    :param columna_color: el nombre de la columna que entrega el color de los círculos,\n",
        "    :param tipo: tipo de la columna del color: N, Q u O\n",
        "    :param data: dataframe con los datos\n",
        "    :return un Chart de Altair\n",
        "    \"\"\"\n",
        "    return  alt.Chart(data).mark_circle(size=100).encode(\n",
        "        x='c0',\n",
        "        y='c1',\n",
        "        color=alt.condition(brush, columna_color + ':' + tipo, alt.value('lightgrey'),\n",
        "                            legend=alt.Legend(title=descripcion_hechos[columna_color]['label'])),\n",
        "        tooltip=['comuna'],\n",
        "        # Esta configuración de opacidad nos permite ver mejor el elemento que estamos seleccionando.\n",
        "        opacity= alt.condition(brush, alt.OpacityValue(1), alt.OpacityValue(0.1))\n",
        "    ).add_selection(\n",
        "        brush  # Este el brush es el mismo que definimos arriba.\n",
        "    ).properties(\n",
        "        width=250,\n",
        "        height=250,\n",
        "        title=titulo\n",
        "    )\n",
        "\n",
        "\n",
        "# La columna del color que vamos a usar. \n",
        "columna_color = 'wins-derecha'\n",
        "tipo = 'N'\n",
        "\n",
        "# Vamos a usar los candidatos del año 1993\n",
        "candidatos_1993 = [c for c in columnas_candidatos if '1993' in c]\n",
        "\n",
        "# Creamos los datos para cada uno de los métodos de reducción que tenemos.\n",
        "pca_data = reduce_dimensions('pca', df, candidatos_1993)\n",
        "tsne_data = reduce_dimensions('tsne', df,  candidatos_1993)\n",
        "mds_data = reduce_dimensions('mds', df,  candidatos_1993)\n",
        "umap_data = reduce_dimensions('umap', df,  candidatos_1993)\n",
        "lda_data = reduce_dimensions('lda', df,  candidatos_1993, clases=df[columna_color])\n",
        "\n",
        "\n",
        "# Se crean los gráficos para cada uno de los datos.\n",
        "pca_chart = make_chart(columna_color, tipo, pca_data, 'PCA')\n",
        "tsne_chart = make_chart(columna_color, tipo, tsne_data, 't-SNE')\n",
        "mds_chart = make_chart(columna_color, tipo, mds_data, 'MDS')\n",
        "umap_chart = make_chart(columna_color, tipo, umap_data, 'UMAP')\n",
        "\n",
        "\n",
        "# En el caso de LDA no podemos hacer scatterplot porque solo tenemos dos clases, por lo tanto solo una componente. \n",
        "# Vamos a hacer el mismo gráfico con ticks que hicimos arriba.\n",
        "\n",
        "# Para el gráfico que va en el eje X no queremos mostrar el título en el eje y\n",
        "tick_axis = alt.Axis(labels=False, domain=False, ticks=False)\n",
        "tick_axis_notitle = alt.Axis(labels=False, domain=False, ticks=False, title='')\n",
        "\n",
        "lda_chart = alt.Chart(lda_data).mark_tick(size=30).encode(\n",
        "        alt.X('c0', axis=tick_axis),  # Queremos que el título del eje X sí aparezca.\n",
        "        alt.Y(columna_color + ':' + tipo, axis=tick_axis_notitle),  # Ponemos la variable que elimina los títulos.\n",
        "        color=alt.condition(brush, columna_color + ':' + tipo, alt.value('lightgrey'), legend=alt.Legend(title=descripcion_hechos[columna_color]['label'])),\n",
        "        tooltip=['comuna'],\n",
        "        # Aplicamos la misma configuración de opacidad que arriba\n",
        "        opacity= alt.condition(brush, alt.OpacityValue(1), alt.OpacityValue(0.1))\n",
        "    ).add_selection(\n",
        "        brush  # Tenemos que usar el mismo brush que para los otros gráficos.\n",
        "    ).properties(\n",
        "    # Lo vamos a hacer más ancho para que quede más al centro.\n",
        "    width=500, height=90, title='LDA')\n",
        "\n",
        "# Los organizamos y mostramos.\n",
        "(((pca_chart & umap_chart)|( mds_chart & tsne_chart)) & lda_chart).configure(tick=alt.TickConfig(thickness=3))  # Este configure nos permite hacer que las líneas del gráfico de LDA se configuren"
      ],
      "execution_count": 0,
      "outputs": []
    },
    {
      "cell_type": "markdown",
      "metadata": {
        "id": "JO4mQXHo4Fyr",
        "colab_type": "text"
      },
      "source": [
        "## Reducción de dimensión en imágenes\n",
        "\n",
        "A continuación vamos a tomar diferentes diferentes imágenes de letras escritas a mano, estas son imágenes de 8 x 8 pixeles, por lo tanto podemos decir que para cada imagen hay información de 64 pixeles, es decir, 64 columnas."
      ]
    },
    {
      "cell_type": "code",
      "metadata": {
        "id": "8zRzvsmNxOo1",
        "colab_type": "code",
        "colab": {}
      },
      "source": [
        "N = 100 # Cantidad de imagenes a trabajar\n",
        "\n",
        "dataset = datasets.load_digits()\n",
        "data_digits = np.array([x.flatten() for x in dataset.images[:N]])\n",
        "\n",
        "fig, ax = plt.subplots(4, 8, subplot_kw=dict(xticks=[], yticks=[]))\n",
        "for i, axi in enumerate(ax.flat):\n",
        "    axi.imshow(dataset.images[i], cmap='gray')"
      ],
      "execution_count": 0,
      "outputs": []
    },
    {
      "cell_type": "code",
      "metadata": {
        "id": "jR34AJzPPn9o",
        "colab_type": "code",
        "colab": {}
      },
      "source": [
        "from matplotlib import offsetbox\n",
        "\n",
        "def plot_components(data, model, images=None, ax=None,\n",
        "                    thumb_frac=0.01):\n",
        "    ax = ax or plt.gca()\n",
        "    \n",
        "    proj = model.fit_transform(data)\n",
        "    ax.plot(proj[:, 0], proj[:, 1], '.k')\n",
        "    \n",
        "    if images is not None:\n",
        "        min_dist_2 = (thumb_frac * max(proj.max(0) - proj.min(0))) ** 2\n",
        "        shown_images = np.array([2 * proj.max(0)])\n",
        "        for i in range(data.shape[0]):\n",
        "            dist = np.sum((proj[i] - shown_images) ** 2, 1)\n",
        "            if np.min(dist) < min_dist_2:\n",
        "                # don't show points that are too close\n",
        "                continue\n",
        "            shown_images = np.vstack([shown_images, proj[i]])\n",
        "            imagebox = offsetbox.AnnotationBbox(offsetbox.OffsetImage(images[i],3,cmap=\"gray\"),proj[i])\n",
        "            ax.add_artist(imagebox)"
      ],
      "execution_count": 0,
      "outputs": []
    },
    {
      "cell_type": "markdown",
      "metadata": {
        "id": "1d42BMv5QOH_",
        "colab_type": "text"
      },
      "source": [
        "### PCA\n",
        "\n",
        "Vamos a probar reducir esas 64 columnas por imagen en 2 columnas, luego, utilizar esas 2 columnas como coordenadas (x,y) para posicionar la imagen y ver como se organizan estas."
      ]
    },
    {
      "cell_type": "code",
      "metadata": {
        "id": "IX9PIw0fPrVo",
        "colab_type": "code",
        "colab": {}
      },
      "source": [
        "fig, ax = plt.subplots(figsize=(18, 10))\n",
        "plot_components(data_digits, model=PCA(n_components=2), images=dataset.images[:N])"
      ],
      "execution_count": 0,
      "outputs": []
    },
    {
      "cell_type": "markdown",
      "metadata": {
        "id": "YVSerMbLRA2R",
        "colab_type": "text"
      },
      "source": [
        "#### Observación\n",
        "Podemos ver que algunos números se agrupan entre si, estos es porque la información de sus 64 columnas es similar y cuando se aplica la reducción de dimensión, las 2 columnas que quedan contienen casi la misma información y por ello, van a tender a estar juntas las imágenes similares. Ahora utilicemos otra técnica de reducción.\n",
        "\n",
        "### TSNE\n",
        "\n",
        "https://distill.pub/2016/misread-tsne/"
      ]
    },
    {
      "cell_type": "code",
      "metadata": {
        "id": "a3Esn3H2PtHO",
        "colab_type": "code",
        "colab": {}
      },
      "source": [
        "perplexity = 50\n",
        "\n",
        "fig, ax = plt.subplots(figsize=(18, 10))\n",
        "plot_components(data_digits, model=TSNE(n_components=2, perplexity=perplexity), images=dataset.images[:N])"
      ],
      "execution_count": 0,
      "outputs": []
    },
    {
      "cell_type": "markdown",
      "metadata": {
        "id": "7fxY5VuocjDI",
        "colab_type": "text"
      },
      "source": [
        "#### Observación\n",
        "Podemos apreciar que ahora si las imágenes están mucho mejor agrupadas, esto demuestra que para este caso particular, utilizar TSNE permite segmentar mejor que LDA, pero que tal probar otro método más.\n",
        "\n",
        "### UMAP"
      ]
    },
    {
      "cell_type": "code",
      "metadata": {
        "id": "bUH6J2B1ciaI",
        "colab_type": "code",
        "colab": {}
      },
      "source": [
        "n_neighbors = 10 #Valor de 2 a 100\n",
        "\n",
        "fig, ax = plt.subplots(figsize=(18, 10))\n",
        "plot_components(data_digits, model=umap.UMAP(n_neighbors=n_neighbors), images=dataset.images[:N])"
      ],
      "execution_count": 0,
      "outputs": []
    },
    {
      "cell_type": "markdown",
      "metadata": {
        "id": "cnvK7mQBc441",
        "colab_type": "text"
      },
      "source": [
        "#### Observación\n",
        "\n",
        "Podemos apreciar que bajo UMAP,  los números quedaron mucho más agrupados entre si y separados de otros, lo cual permite mostrar que esta reducción de dimensión logra bajar de 64 columnas a 2 y mantiene bastante información de los datos para poder seguir distinguindo una clase de otra."
      ]
    },
    {
      "cell_type": "markdown",
      "metadata": {
        "id": "FCIvPNcREs6s",
        "colab_type": "text"
      },
      "source": [
        "## Actividad 3\n",
        "\n",
        "A continuación se cargará un dataset con diferentes imágenes de obras de arte, cada imagen tiene asociado un vector de 2048 datos, es decir, 2048 columnas. Aplique 2 técnicas de reducción de dimensionalidad a dicho dataset y visualice las imágenes en una grilla como el ejemplo anterior. Para esto se entregará una serie de funciones para facilitar este proceso.\n",
        "\n",
        "### Descargar dataset\n",
        "\n"
      ]
    },
    {
      "cell_type": "code",
      "metadata": {
        "id": "dSgI6V7uFNqo",
        "colab_type": "code",
        "colab": {}
      },
      "source": [
        "from IPython.display import clear_output\n",
        "\n",
        "\n",
        "!wget -N https://www.dropbox.com/s/xh0twkvvbh5y7ug/surdoc.zip\n",
        "!unzip -o surdoc\n",
        "  \n",
        "clear_output() # Limpiar ventana para que no se vea despues.\n",
        "!ls"
      ],
      "execution_count": 0,
      "outputs": []
    },
    {
      "cell_type": "markdown",
      "metadata": {
        "id": "II-Hwi0SKi9-",
        "colab_type": "text"
      },
      "source": [
        "### Cargar información\n",
        "\n",
        "Esto cargará 100 imagenes de las aproximadamente 400 que hay, cada vez que ejecutes la siguiente casilla, se seleccionarán 100 de forma aleatoria"
      ]
    },
    {
      "cell_type": "code",
      "metadata": {
        "id": "2CIE112rKf8P",
        "colab_type": "code",
        "colab": {}
      },
      "source": [
        "import os\n",
        "import random\n",
        "import cv2\n",
        "\n",
        "\n",
        "images = []\n",
        "dataset = []\n",
        "images_path = random.sample(os.listdir(\"images\"), 100)\n",
        "for image in images_path:\n",
        "  if image.endswith(\".jpg\"):\n",
        "    image_file = cv2.imread(os.path.join(\"images\", image))\n",
        "    resized = cv2.resize(image_file, (20, 30), interpolation = cv2.INTER_AREA)\n",
        "    images.append(resized)\n",
        "\n",
        "    npy = image[:-3] + \"npy\"\n",
        "    dataset.append(np.load(os.path.join(\"features\", npy)))\n",
        "  \n",
        "images_surdoc = np.array(images)\n",
        "dataset_surdoc = np.array(dataset)"
      ],
      "execution_count": 0,
      "outputs": []
    },
    {
      "cell_type": "markdown",
      "metadata": {
        "id": "cqClLcTHGped",
        "colab_type": "text"
      },
      "source": [
        "### Funciones\n",
        "\n",
        "A continuación se presentan todas las funciones a utilizar, en el siguiente bloque se documenta cada una"
      ]
    },
    {
      "cell_type": "code",
      "metadata": {
        "id": "msMmYe8BFoI2",
        "colab_type": "code",
        "colab": {}
      },
      "source": [
        "def reducir_con_pca(data):\n",
        "    \"\"\"\n",
        "    Principal Components Analysis (pca)\n",
        "    Explicación del método en español: https://es.wikipedia.org/wiki/An%C3%A1lisis_de_componentes_principales\n",
        "    \"\"\"\n",
        "    dim_red = PCA(n_components=2).fit(data)\n",
        "    data_new_dimensions = dim_red.transform(data)\n",
        "    return pd.DataFrame(data_new_dimensions, columns=[\"X\", \"Y\"])\n",
        "\n",
        "\n",
        "def reducir_con_tsne(data, perplexity):\n",
        "    \"\"\"\n",
        "    Expicación del método en inglés: https://en.wikipedia.org/wiki/T-distributed_stochastic_neighbor_embedding\n",
        "    \n",
        "    Este método tiene una componente aleatoria, por lo que no siempre entrega la misma distribución para un set de puntos.\n",
        "    \"\"\"\n",
        "    data_new_dimensions = TSNE(n_components=2, perplexity=perplexity).fit_transform(data)\n",
        "    return pd.DataFrame(data_new_dimensions, columns=[\"X\", \"Y\"])\n",
        "\n",
        "\n",
        "def reducir_con_mds(data, max_iter):\n",
        "    \"\"\"\n",
        "    Esta es otra técnica que es posible utilizar, pero no fue vista en clases.\n",
        "    Multidimensional Scalling (mds)\n",
        "    Explicación del método en español: https://es.wikipedia.org/wiki/Escalamiento_multidimensional\n",
        "    Este método tiene una componente aleatoria, por lo que no siempre entrega la misma distribución para un set de puntos.\n",
        "    \"\"\"\n",
        "    data_new_dimensions = MDS(n_components=2, max_iter=max_iter).fit_transform(data)\n",
        "    return pd.DataFrame(data_new_dimensions, columns=[\"X\", \"Y\"])\n",
        "\n",
        "def reducir_con_umap(data, n_neighbors):\n",
        "    \"\"\"\n",
        "    Multidimensional Scalling (mds)\n",
        "    Explicación del método en español: https://es.wikipedia.org/wiki/Escalamiento_multidimensional\n",
        "    Este método tiene una componente aleatoria, por lo que no siempre entrega la misma distribución para un set de puntos.\n",
        "    \"\"\"\n",
        "    data_new_dimensions = umap.UMAP(n_neighbors=n_neighbors).fit_transform(data)\n",
        "    return pd.DataFrame(data_new_dimensions, columns=[\"X\", \"Y\"])\n",
        "\n",
        "def visualizar(dataset_reducido, metodo):\n",
        "  \"\"\"\n",
        "  Método utilizado para visualizar las obras de arte\n",
        "  \"\"\"\n",
        "  print(metodo)\n",
        "  fig, ax = plt.subplots(figsize=(25, 10)) # AQUÍ PUEDEN CAMBIAR EL TAMAÑO DEL GRAFICO\n",
        "  ax = ax or plt.gca()\n",
        "  proj = dataset_reducido.values\n",
        "  ax.plot(proj[:, 0], proj[:, 1], '.k')\n",
        "\n",
        "  if images is not None:\n",
        "      min_dist_2 = (0.001 * max(proj.max(0) - proj.min(0))) ** 2\n",
        "      shown_images = np.array([2 * proj.max(0)])\n",
        "      for i in range(proj.shape[0]):\n",
        "          dist = np.sum((proj[i] - shown_images) ** 2, 1)\n",
        "          if np.min(dist) < min_dist_2:\n",
        "              # don't show points that are too close\n",
        "              continue\n",
        "          shown_images = np.vstack([shown_images, proj[i]])\n",
        "          imagebox = offsetbox.AnnotationBbox(offsetbox.OffsetImage(images[i],2,cmap=\"gray\"),proj[i])\n",
        "          ax.add_artist(imagebox)"
      ],
      "execution_count": 0,
      "outputs": []
    },
    {
      "cell_type": "markdown",
      "metadata": {
        "id": "eqaNy1ISFN7x",
        "colab_type": "text"
      },
      "source": [
        "### Documentación de funciones\n",
        "\n",
        "* `reducir_con_pca(data)`: recibe el dataset y retorna un DataFrame con 2 columnas obtenidas tras aplicar PCA\n",
        "\n",
        "* `reducir_con_tsne(data, perplexity)`: recibe el dataset y un número positivo. Retorna un DataFrame con 2 columnas obtenidas tras aplicar TSNE. Cambiar el parámetro perplexity permite obtener diferentes resultados\n",
        "\n",
        "* `reducir_con_mds(data, max_iter)`: recibe el dataset y un número positivo. Retorna un DataFrame con 2 columnas obtenidas tras aplicar MDS. Cambiar el parámetro max_iter permite obtener diferentes resultados.\n",
        "\n",
        "* `reducir_con_umap(data, n_neighbors)`: recibe el dataset y un número positivo Retorna un DataFrame con 2 columnas obtenidas tras aplicar UMAP. Cambiar el parámetro `n_neighbors` permite obtener diferentes resultados.\n",
        "\n",
        "* `visualizar(dataset_reducido, metodo)`. Recibe el dataset generado por las funciones detalladas anteriormente y un string para poner antes del dataset\n",
        "\n",
        "\n",
        "Ejemplo de uso:\n",
        "\n",
        "```\n",
        "tsne_dataset_version_1 = reducir_con_tsne(dataset_surdoc, 30)\n",
        "tsne_dataset_version_2 = reducir_con_tsne(dataset_surdoc, 60)\n",
        "visualizar(tsne_dataset_version_1, \"TSNE con perplexity de 30\")\n",
        "\n",
        "```"
      ]
    },
    {
      "cell_type": "markdown",
      "metadata": {
        "id": "WAdwTZaCFrB_",
        "colab_type": "text"
      },
      "source": [
        "### Generar gráficos"
      ]
    },
    {
      "cell_type": "code",
      "metadata": {
        "id": "Wih6CzeMFtCa",
        "colab_type": "code",
        "colab": {}
      },
      "source": [
        "# Gráfico 1 COMPLETAR\n",
        "\n"
      ],
      "execution_count": 0,
      "outputs": []
    },
    {
      "cell_type": "code",
      "metadata": {
        "id": "NuIex4uLFwIj",
        "colab_type": "code",
        "colab": {}
      },
      "source": [
        "# Gráfico 2 COMPLETAR\n",
        "\n"
      ],
      "execution_count": 0,
      "outputs": []
    },
    {
      "cell_type": "markdown",
      "metadata": {
        "id": "JwM1UDfmOvJa",
        "colab_type": "text"
      },
      "source": [
        "### ¿Con ganas de ver más? \n",
        "En la siguiente página puedes ver un mapa interactivo con diferentes obras de arte posicionadas según reducción de dimensionalidad: http://niebla.ing.puc.cl/surdoc/"
      ]
    },
    {
      "cell_type": "markdown",
      "metadata": {
        "id": "ADLHEZ_mRfXT",
        "colab_type": "text"
      },
      "source": [
        "## Actividad 4\n",
        "\n",
        "A continuación se presentará un dataset con información de flores y diversas funciones para aplicar diferentes métodos de reducción de dimensionalidad. Debe probar cada uno, visualizar el dataset resultando y finalmente indicar cual técnica permite mejor separar las clases de flores.\n",
        "\n",
        "### Documentación de funciones (la misma que de la actividad 03)\n",
        "\n",
        "* `reducir_con_pca(data)`: recibe el dataset y retorna un DataFrame con 2 columnas obtenidas tras aplicar PCA\n",
        "\n",
        "* `reducir_con_tsne(data, perplexity)`: recibe el dataset y un número positivo. Retorna un DataFrame con 2 columnas obtenidas tras aplicar TSNE. Cambiar el parámetro perplexity permite obtener diferentes resultados\n",
        "\n",
        "* `reducir_con_mds(data, max_iter)`: recibe el dataset y un número positivo. Retorna un DataFrame con 2 columnas obtenidas tras aplicar MDS. Cambiar el parámetro max_iter permite obtener diferentes resultados.\n",
        "\n",
        "* `reducir_con_umap(data, n_neighbors)`: recibe el dataset y un número positivo Retorna un DataFrame con 2 columnas obtenidas tras aplicar UMAP. Cambiar el parámetro `n_neighbors` permite obtener diferentes resultados.\n",
        "\n",
        "\n",
        "Ejemplo de uso:\n",
        "\n",
        "```\n",
        "lda_dataset = reducir_con_pca(dataset)\n",
        "\n",
        "```"
      ]
    },
    {
      "cell_type": "code",
      "metadata": {
        "id": "t4dDwZIbRYaP",
        "colab_type": "code",
        "colab": {}
      },
      "source": [
        "iris = datasets.load_iris()\n",
        "dataset = iris.data\n",
        "classes = iris.target"
      ],
      "execution_count": 0,
      "outputs": []
    },
    {
      "cell_type": "markdown",
      "metadata": {
        "id": "xNPO38qxjsXr",
        "colab_type": "text"
      },
      "source": [
        "### Completar el siguiente código y luego responder la pregunta"
      ]
    },
    {
      "cell_type": "code",
      "metadata": {
        "id": "qhaE_n0aVlxD",
        "colab_type": "code",
        "colab": {}
      },
      "source": [
        "# Vamos a usar como brush uno que funciona en mouseover.  NO TOCAR\n",
        "# El parámetro fields indica que en cada gráfico seleccionará la marca que corresponda a la misma comuna.\n",
        "brush = alt.selection_multi(on='mouseover', fields=[\"index\"])\n",
        "\n",
        "\n",
        "# Esta función creará algunos de los gráficos que vamos a usar.  NO TOCAR\n",
        "def make_chart(data, titulo):\n",
        "    \"\"\"\n",
        "    :param data: dataframe con los datos\n",
        "    :return un Chart de Altair\n",
        "    \"\"\"\n",
        "    source = pd.DataFrame(data.copy()).reset_index()\n",
        "    source['classes'] = classes\n",
        "\n",
        "    return  alt.Chart(source).mark_circle(size=100).encode(\n",
        "        x='X',\n",
        "        y='Y',\n",
        "        color=alt.condition(brush, \"classes:N\", alt.value('lightgrey'),\n",
        "                            legend=alt.Legend(title=\"Clases de flores\")),\n",
        "        # Esta configuración de opacidad nos permite ver mejor el elemento que estamos seleccionando.\n",
        "        opacity= alt.condition(brush, alt.OpacityValue(1), alt.OpacityValue(0.1))\n",
        "    ).add_selection(\n",
        "        brush  # Este el brush es el mismo que definimos arriba.\n",
        "    ).properties(\n",
        "        width=250,\n",
        "        height=250,\n",
        "        title=titulo\n",
        "    )\n",
        "\n",
        "\n",
        "# Creamos los datos para cada uno de los métodos de reducción que tenemos. SI TOCAR\n",
        "\"\"\"\n",
        "COMPLETAR \n",
        "Crear los datasets mediante reducción de dimensionalidad, usar el ejemplo de la\n",
        "casilla anterior\n",
        "\"\"\"\n",
        "\n",
        "\n",
        "# Se crean los gráficos para cada uno de los datos Usar la función make_chart. SI TOCAR\n",
        "pca_chart = \"COMPLETAR\"\n",
        "tsne_chart = \"COMPLETAR\"\n",
        "mds_chart = \"COMPLETAR\"\n",
        "umap_chart = \"COMPLETAR\"\n",
        "\n",
        "\n",
        "# Los organizamos y mostramos. NO TOCAR\n",
        "(((pca_chart & umap_chart)|( mds_chart & tsne_chart))).configure(tick=alt.TickConfig(thickness=3))  # Este configure nos permite hacer que las líneas del gráfico de LDA se configuren"
      ],
      "execution_count": 0,
      "outputs": []
    },
    {
      "cell_type": "code",
      "metadata": {
        "id": "mOilZhqLJs0W",
        "colab_type": "code",
        "colab": {}
      },
      "source": [
        ""
      ],
      "execution_count": 0,
      "outputs": []
    },
    {
      "cell_type": "markdown",
      "metadata": {
        "id": "Qmyfy5PXZTkj",
        "colab_type": "text"
      },
      "source": [
        "### Respuesta\n",
        "\n",
        "¿Dado las 5 técnicas, cual reduce mejor la información para separar cada clase? Explique como, dado un dato, reconoce que tipo de clase es con la reducción utilizada. \n",
        "\n"
      ]
    }
  ]
}